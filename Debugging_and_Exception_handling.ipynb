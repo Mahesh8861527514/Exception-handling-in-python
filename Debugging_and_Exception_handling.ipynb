{
  "nbformat": 4,
  "nbformat_minor": 0,
  "metadata": {
    "colab": {
      "provenance": []
    },
    "kernelspec": {
      "name": "python3",
      "display_name": "Python 3"
    },
    "language_info": {
      "name": "python"
    }
  },
  "cells": [
    {
      "cell_type": "code",
      "execution_count": null,
      "metadata": {
        "id": "NYTYqizAJz38",
        "colab": {
          "base_uri": "https://localhost:8080/",
          "height": 110
        },
        "outputId": "3fdaf1a7-25cd-4f98-b30b-0fea03921c81"
      },
      "outputs": [
        {
          "output_type": "error",
          "ename": "SyntaxError",
          "evalue": "unterminated string literal (detected at line 2) (<ipython-input-1-b98c75a5c1a7>, line 2)",
          "traceback": [
            "\u001b[0;36m  File \u001b[0;32m\"<ipython-input-1-b98c75a5c1a7>\"\u001b[0;36m, line \u001b[0;32m2\u001b[0m\n\u001b[0;31m    '# Zero Devison Error\u001b[0m\n\u001b[0m    ^\u001b[0m\n\u001b[0;31mSyntaxError\u001b[0m\u001b[0;31m:\u001b[0m unterminated string literal (detected at line 2)\n"
          ]
        }
      ],
      "source": [
        "#user provide some unwanted input,\n",
        "'# Zero Devison Error\n",
        "a=10\n",
        "b=0\n",
        "print(a/b)\n",
        "print('Hi, I am from India')\n",
        "print(b/a)\n",
        "print(\"Where are you from\")"
      ]
    },
    {
      "cell_type": "code",
      "source": [
        "a=10\n",
        "b=0\n",
        "\n",
        "try:\n",
        "    print(a/b)\n",
        "except Exception:\n",
        "    print(\"Please provide a valid input for a and b\") #if we are unable to devide a/b due to any reason\n",
        "\n",
        "print(\"Hi, I am from India\")"
      ],
      "metadata": {
        "colab": {
          "base_uri": "https://localhost:8080/"
        },
        "id": "3xwwqBePKoc6",
        "outputId": "247dc7cf-a849-47f5-8287-136d8457f3e1"
      },
      "execution_count": null,
      "outputs": [
        {
          "output_type": "stream",
          "name": "stdout",
          "text": [
            "Please provide a valid input for a and b\n",
            "Hi, I am from India\n"
          ]
        }
      ]
    },
    {
      "cell_type": "code",
      "source": [
        "a=5\n",
        "b=0\n",
        "\n",
        "try:\n",
        "    print(\"resource Open\")\n",
        "    print(a/b)\n",
        "    k=int(input(\"Enter a value for k\"))\n",
        "    print(k)\n",
        "\n",
        "except ZeroDivisionError as e:\n",
        "    print(\"you cannot divide a number by zero,try changing values that you provided\") #if we are unable to devide a/b due to any reason\n",
        "\n",
        "except ValueError as e:\n",
        "    print(\"invalid format of input\")\n",
        "\n",
        "except Exception as e:\n",
        "    print(\"something went wrong\")\n",
        "\n",
        "finally:\n",
        "    print(\"resource Close\")\n"
      ],
      "metadata": {
        "colab": {
          "base_uri": "https://localhost:8080/"
        },
        "id": "B-qgTBJqMgaQ",
        "outputId": "251d6c34-7ff9-4fbb-e994-8c8a9ea4b363"
      },
      "execution_count": null,
      "outputs": [
        {
          "output_type": "stream",
          "name": "stdout",
          "text": [
            "resource Open\n",
            "you cannot divide a number by zero,try changing values that you provided\n",
            "resource Close\n"
          ]
        }
      ]
    },
    {
      "cell_type": "code",
      "source": [],
      "metadata": {
        "id": "lKv4I7bkPccX"
      },
      "execution_count": null,
      "outputs": []
    }
  ]
}